{
 "cells": [
  {
   "cell_type": "code",
   "execution_count": null,
   "metadata": {},
   "outputs": [],
   "source": [
    "#import library\n",
    "\n",
    "import mne\n",
    "import numpy as np\n",
    "import os\n",
    "import matplotlib.pyplot as plt\n",
    "import statistics\n",
    "import pyeeg\n",
    "import librosa\n",
    "from scipy import stats"
   ]
  },
  {
   "cell_type": "code",
   "execution_count": null,
   "metadata": {},
   "outputs": [],
   "source": [
    "import pandas as pd\n",
    "df = pd.read_csv('potongan_seizure.csv')"
   ]
  },
  {
   "cell_type": "code",
   "execution_count": null,
   "metadata": {},
   "outputs": [],
   "source": [
    "path_data = \"C:/Users/Asus/Downloads/Bisa AI/DATASET\"\n",
    "#ica = mne.preprocessing.ICA(n_components=20, random_state=97, max_iter=800)"
   ]
  },
  {
   "cell_type": "code",
   "execution_count": null,
   "metadata": {},
   "outputs": [],
   "source": [
    "#function for preprocessing_data eeg\n",
    "\n",
    "def preprocessing_data(file,channel,tawal,takhir):\n",
    "    x=mne.io.read_raw_edf(file)\n",
    "    x.crop(tmin=tawal, tmax=takhir)\n",
    "    #ica.fit(x)\n",
    "    x.load_data()\n",
    "    #ica.apply(x)\n",
    "    x.pick_types(x.info,eeg=True, include=[], exclude='bads', selection=channel)\n",
    "    x.filter(1, 35., fir_design='firwin')\n",
    "    averaged=sum(x.get_data())/len(x.ch_names)\n",
    "    return averaged    "
   ]
  },
  {
   "cell_type": "code",
   "execution_count": null,
   "metadata": {},
   "outputs": [],
   "source": [
    "signal=[]\n",
    "channel=['FP1-F7','F7-T7','T7-P7','P7-O1','FP1-F3','F3-C3','C3-P3','P3-O1','FP2-F4',\n",
    "            'F4-C4','C4-P4','P4-O2','FP2-F8','F8-T8','T8-P8-0','T8-P8','P8-O2','FZ-CZ','CZ-PZ']\n",
    "\n",
    "#load raw eeg data (.edf)\n",
    "for x in range(len(df)):\n",
    "    file_name = os.path.join(path_data, df['nama file'][x])\n",
    "    signal.append(preprocessing_data(file_name,channel,df['mulai (s)'][x],df['selesai (s)'][x]));"
   ]
  },
  {
   "cell_type": "code",
   "execution_count": null,
   "metadata": {},
   "outputs": [],
   "source": [
    "crop=[]\n",
    "jumlah=[]\n",
    "\n",
    "#crop eeg data 5 sec each\n",
    "for i in range(len(signal)):\n",
    "    bagi=len(signal[i])//1280\n",
    "    jumlah.append(bagi)\n",
    "    for j in range(bagi):\n",
    "        crop.append(signal[i][(1280*j):(1280*(j+1))+1])"
   ]
  },
  {
   "cell_type": "code",
   "execution_count": null,
   "metadata": {},
   "outputs": [],
   "source": [
    "psd=[]\n",
    "\n",
    "#calculate power spectral density using welch method\n",
    "for n in range(len(crop)):\n",
    "    welch, freq= mne.time_frequency.psd_array_welch(crop[n], sfreq=256, fmin=1, fmax=35, n_fft=1280,n_overlap=256/2,\n",
    "                                                    n_per_seg=None, n_jobs=1, average='mean', verbose=None)\n",
    "    log_psd= 10 * np.log10(welch)\n",
    "    psd.append(log_psd)"
   ]
  },
  {
   "cell_type": "code",
   "execution_count": null,
   "metadata": {},
   "outputs": [],
   "source": [
    "#function for low level feature extractions\n",
    "def low_level(signal,welch):\n",
    "    sig_mean=statistics.mean(signal)\n",
    "    sig_var=statistics.variance(signal)\n",
    "    sig_sd=statistics.stdev(signal)\n",
    "    sig_kurt=stats.kurtosis(signal, axis=0, fisher=True, bias=True, nan_policy='propagate')\n",
    "    sig_skew=stats.skew(signal, axis=0, bias=True)\n",
    "    sig_centroid=librosa.feature.spectral_centroid(y=signal, sr=256)[0,0]\n",
    "    bin_power=pyeeg.bin_power(signal, [0.5,4,7,12,30], 256) \n",
    "    sig_specent=pyeeg.spectral_entropy(signal, [0.5,4,7,12,30], 256, Power_Ratio=bin_power[1])\n",
    "    \n",
    "    psd_mean=statistics.mean(welch)\n",
    "    psd_var=statistics.variance(welch)\n",
    "    psd_sd=statistics.stdev(welch)\n",
    "    psd_kurt=stats.kurtosis(welch, axis=0, fisher=True, bias=True, nan_policy='propagate')\n",
    "    psd_skew=stats.skew(welch, axis=0, bias=True)\n",
    "    rat_delta=bin_power[1][0]\n",
    "    rat_theta=bin_power[1][1]\n",
    "    rat_alpha=bin_power[1][2]\n",
    "    rat_beta=bin_power[1][3]\n",
    "    \n",
    "    return sig_mean,sig_var,sig_sd,sig_kurt,sig_skew,sig_centroid,sig_specent,psd_mean,psd_var,psd_sd,psd_kurt,psd_skew,rat_delta,rat_theta,rat_alpha,rat_beta"
   ]
  },
  {
   "cell_type": "code",
   "execution_count": null,
   "metadata": {},
   "outputs": [],
   "source": [
    "data_low_level = []\n",
    "#low level feature extraction from eeg\n",
    "for x in range(len(crop)):\n",
    "    try:\n",
    "        data_low_level.append(low_level(crop[x],psd[x]))\n",
    "    except:\n",
    "        print(\"Error Baca File\")"
   ]
  },
  {
   "cell_type": "code",
   "execution_count": null,
   "metadata": {},
   "outputs": [],
   "source": [
    "#convert the feature into dataframe\n",
    "dataset = pd.DataFrame(data=data_low_level, columns=['sig_mean','sig_var','sig_sd','sig_kurt','sig_skew','sig_centroid',\n",
    "                                                     'sig_specent','psd_mean','psd_var','psd_sd','psd_kurt','psd_skew',\n",
    "                                                     'rat_delta','rat_theta','rat_alpha','rat_beta'])"
   ]
  },
  {
   "cell_type": "code",
   "execution_count": null,
   "metadata": {},
   "outputs": [],
   "source": [
    "df_norm = pd.read_csv('potongan_normal.csv')"
   ]
  },
  {
   "cell_type": "code",
   "execution_count": null,
   "metadata": {},
   "outputs": [],
   "source": [
    "signal_norm=[]\n",
    "\n",
    "for x in range(len(df_norm)):\n",
    "    file_name = os.path.join(path_data, df_norm['nama file'][x])\n",
    "    signal_norm.append(preprocessing_data(file_name,channel,df_norm['mulai (s)'][x],df_norm['selesai (s)'][x]));"
   ]
  },
  {
   "cell_type": "code",
   "execution_count": null,
   "metadata": {},
   "outputs": [],
   "source": [
    "crop_norm=[]\n",
    "jumlah_norm=[]\n",
    "for i in range(len(signal_norm)):\n",
    "    bagi=len(signal_norm[i])//1280\n",
    "    jumlah_norm.append(bagi)\n",
    "    for j in range(bagi):\n",
    "        crop_norm.append(signal_norm[i][(1280*j):(1280*(j+1))+1])"
   ]
  },
  {
   "cell_type": "code",
   "execution_count": null,
   "metadata": {},
   "outputs": [],
   "source": [
    "psd_norm=[]\n",
    "for n in range(len(crop_norm)):\n",
    "    welch, freq= mne.time_frequency.psd_array_welch(crop_norm[n], sfreq=256, fmin=1, fmax=35, n_fft=1280,n_overlap=256/2,\n",
    "                                                    n_per_seg=None, n_jobs=1, average='mean', verbose=None)\n",
    "    log_psd= 10 * np.log10(welch)\n",
    "    psd_norm.append(log_psd)"
   ]
  },
  {
   "cell_type": "code",
   "execution_count": null,
   "metadata": {},
   "outputs": [],
   "source": [
    "data_low_level_norm = []\n",
    "for x in range(len(crop_norm)):\n",
    "    try:\n",
    "        data_low_level_norm.append(low_level(crop_norm[x],psd_norm[x]))\n",
    "    except:\n",
    "        print(\"Error Baca File\")"
   ]
  },
  {
   "cell_type": "code",
   "execution_count": null,
   "metadata": {},
   "outputs": [],
   "source": [
    "dataset_2 = pd.DataFrame(data=data_low_level_norm, columns=['sig_mean','sig_var','sig_sd','sig_kurt','sig_skew','sig_centroid',\n",
    "                                                     'sig_specent','psd_mean','psd_var','psd_sd','psd_kurt','psd_skew',\n",
    "                                                     'rat_delta','rat_theta','rat_alpha','rat_beta'])"
   ]
  },
  {
   "cell_type": "code",
   "execution_count": null,
   "metadata": {
    "scrolled": true
   },
   "outputs": [],
   "source": [
    "dataset.describe()"
   ]
  },
  {
   "cell_type": "code",
   "execution_count": null,
   "metadata": {},
   "outputs": [],
   "source": [
    "dataset_2.describe()"
   ]
  },
  {
   "cell_type": "code",
   "execution_count": null,
   "metadata": {},
   "outputs": [],
   "source": [
    "import librosa.display\n",
    "\n",
    "df_spec = pd.read_csv('potongan_spectrogram.csv')\n",
    "\n",
    "signal_spec=[]\n",
    "\n",
    "for x in range(len(df_spec)):\n",
    "    file_name = os.path.join(path_data, df_spec['nama file'][x])\n",
    "    signal_spec.append(preprocessing_data(file_name,channel,df_spec['mulai (s)'][x],df_spec['selesai (s)'][x]))"
   ]
  },
  {
   "cell_type": "code",
   "execution_count": null,
   "metadata": {
    "scrolled": true
   },
   "outputs": [],
   "source": [
    "#spectrogram\n",
    "for i in range(len(signal_spec)):\n",
    "    S = librosa.feature.melspectrogram(y=signal_spec[i], sr=256, n_mels=256/4, fmax=35)\n",
    "    plt.figure(figsize=(5, 5)) \n",
    "    S_dB = librosa.power_to_db(S, ref=np.max)\n",
    "    librosa.display.specshow(S_dB, x_axis='time', y_axis='mel', sr=256,fmax=35) \n",
    "    plt.axis('off')\n",
    "    plt.tight_layout() \n",
    "    plt.savefig(\"norm_\"+str(i).zfill(3)+\".jpg\", bbox_inches='tight')\n",
    "\n",
    "\n",
    "for i in range(len(signal)):\n",
    "    S = librosa.feature.melspectrogram(y=signal[i], sr=256, n_mels=256/4, fmax=35)\n",
    "    plt.figure(figsize=(5, 5)) \n",
    "    S_dB = librosa.power_to_db(S, ref=np.max)\n",
    "    librosa.display.specshow(S_dB, x_axis='time', y_axis='mel', sr=256,fmax=35) \n",
    "    plt.axis('off')\n",
    "    plt.tight_layout() \n",
    "    plt.savefig(\"seizure_\"+str(i).zfill(3)+\".jpg\", bbox_inches='tight')"
   ]
  },
  {
   "cell_type": "code",
   "execution_count": null,
   "metadata": {},
   "outputs": [],
   "source": [
    "#save dataframe into csv\n",
    "dataset.to_csv('data_seizure.csv', index = False)"
   ]
  },
  {
   "cell_type": "code",
   "execution_count": null,
   "metadata": {},
   "outputs": [],
   "source": [
    "dataset_2.to_csv('data_normal.csv', index = False)"
   ]
  }
 ],
 "metadata": {
  "kernelspec": {
   "display_name": "Python 3",
   "language": "python",
   "name": "python3"
  },
  "language_info": {
   "codemirror_mode": {
    "name": "ipython",
    "version": 3
   },
   "file_extension": ".py",
   "mimetype": "text/x-python",
   "name": "python",
   "nbconvert_exporter": "python",
   "pygments_lexer": "ipython3",
   "version": "3.7.7"
  }
 },
 "nbformat": 4,
 "nbformat_minor": 4
}
